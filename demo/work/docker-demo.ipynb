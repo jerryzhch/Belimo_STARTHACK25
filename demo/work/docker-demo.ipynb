{
 "cells": [
  {
   "cell_type": "markdown",
   "metadata": {},
   "source": [
    "### Start a spark session"
   ]
  },
  {
   "cell_type": "code",
   "execution_count": 1,
   "metadata": {
    "jupyter": {
     "source_hidden": true
    }
   },
   "outputs": [
    {
     "name": "stdout",
     "output_type": "stream",
     "text": [
      ":: loading settings :: url = jar:file:/Users/jeremiah.agboola/Library/Python/3.9/lib/python/site-packages/pyspark/jars/ivy-2.5.1.jar!/org/apache/ivy/core/settings/ivysettings.xml\n"
     ]
    },
    {
     "name": "stderr",
     "output_type": "stream",
     "text": [
      "Ivy Default Cache set to: /Users/jeremiah.agboola/.ivy2/cache\n",
      "The jars for the packages stored in: /Users/jeremiah.agboola/.ivy2/jars\n",
      "io.delta#delta-sharing-spark_2.12 added as a dependency\n",
      ":: resolving dependencies :: org.apache.spark#spark-submit-parent-22902a32-663a-42f1-8348-536be2a70136;1.0\n",
      "\tconfs: [default]\n",
      "\tfound io.delta#delta-sharing-spark_2.12;3.3.0 in central\n",
      "\tfound io.delta#delta-spark_2.12;3.3.0 in central\n",
      "\tfound io.delta#delta-storage;3.3.0 in central\n",
      "\tfound org.antlr#antlr4-runtime;4.9.3 in central\n",
      "\tfound io.delta#delta-sharing-client_2.12;1.2.2 in central\n",
      "\tfound org.apache.httpcomponents#httpclient;4.5.14 in local-m2-cache\n",
      "\tfound org.apache.httpcomponents#httpcore;4.4.16 in local-m2-cache\n",
      "\tfound commons-logging#commons-logging;1.2 in central\n",
      "\tfound commons-codec#commons-codec;1.11 in local-m2-cache\n",
      ":: resolution report :: resolve 135ms :: artifacts dl 7ms\n",
      "\t:: modules in use:\n",
      "\tcommons-codec#commons-codec;1.11 from local-m2-cache in [default]\n",
      "\tcommons-logging#commons-logging;1.2 from central in [default]\n",
      "\tio.delta#delta-sharing-client_2.12;1.2.2 from central in [default]\n",
      "\tio.delta#delta-sharing-spark_2.12;3.3.0 from central in [default]\n",
      "\tio.delta#delta-spark_2.12;3.3.0 from central in [default]\n",
      "\tio.delta#delta-storage;3.3.0 from central in [default]\n",
      "\torg.antlr#antlr4-runtime;4.9.3 from central in [default]\n",
      "\torg.apache.httpcomponents#httpclient;4.5.14 from local-m2-cache in [default]\n",
      "\torg.apache.httpcomponents#httpcore;4.4.16 from local-m2-cache in [default]\n",
      "\t---------------------------------------------------------------------\n",
      "\t|                  |            modules            ||   artifacts   |\n",
      "\t|       conf       | number| search|dwnlded|evicted|| number|dwnlded|\n",
      "\t---------------------------------------------------------------------\n",
      "\t|      default     |   9   |   0   |   0   |   0   ||   9   |   0   |\n",
      "\t---------------------------------------------------------------------\n",
      ":: retrieving :: org.apache.spark#spark-submit-parent-22902a32-663a-42f1-8348-536be2a70136\n",
      "\tconfs: [default]\n",
      "\t0 artifacts copied, 9 already retrieved (0kB/3ms)\n",
      "25/03/20 19:24:33 WARN NativeCodeLoader: Unable to load native-hadoop library for your platform... using builtin-java classes where applicable\n",
      "Setting default log level to \"WARN\".\n",
      "To adjust logging level use sc.setLogLevel(newLevel). For SparkR, use setLogLevel(newLevel).\n"
     ]
    }
   ],
   "source": [
    "from pyspark.sql import SparkSession\n",
    "\n",
    "spark = SparkSession \\\n",
    "    .builder \\\n",
    "    .appName(\"Python Spark SQL basic example\") \\\n",
    "    .config(\"spark.sql.extensions\", \"io.delta.sql.DeltaSparkSessionExtension\") \\\n",
    "    .config(\"spark.sql.catalog.spark_catalog\", \"org.apache.spark.sql.delta.catalog.DeltaCatalog\") \\\n",
    "    .config(\"spark.jars.packages\", \"io.delta:delta-sharing-spark_2.12:3.3.0\") \\\n",
    "    .getOrCreate()"
   ]
  },
  {
   "cell_type": "markdown",
   "metadata": {
    "application/vnd.databricks.v1+cell": {
     "cellMetadata": {},
     "inputWidgets": {},
     "nuid": "aee784f9-1eb0-4a68-b122-22e05faedf3e",
     "showTitle": false,
     "tableResultSettingsMap": {},
     "title": ""
    }
   },
   "source": [
    "### List Tables\n",
    "Use the provided config"
   ]
  },
  {
   "cell_type": "code",
   "execution_count": 2,
   "metadata": {
    "jupyter": {
     "source_hidden": true
    }
   },
   "outputs": [
    {
     "name": "stderr",
     "output_type": "stream",
     "text": [
      "/Users/jeremiah.agboola/Library/Python/3.9/lib/python/site-packages/urllib3/__init__.py:35: NotOpenSSLWarning: urllib3 v2 only supports OpenSSL 1.1.1+, currently the 'ssl' module is compiled with 'LibreSSL 2.8.3'. See: https://github.com/urllib3/urllib3/issues/3020\n",
      "  warnings.warn(\n"
     ]
    },
    {
     "data": {
      "text/plain": [
       "[Table(name='ev3_device_data', share='start_hack_2025', schema='start_hack_2025'),\n",
       " Table(name='cc_api_logs', share='start_hack_2025', schema='start_hack_2025'),\n",
       " Table(name='ev3_dataprofile', share='start_hack_2025', schema='start_hack_2025')]"
      ]
     },
     "execution_count": 2,
     "metadata": {},
     "output_type": "execute_result"
    }
   ],
   "source": [
    "import delta_sharing\n",
    "config = \"config.share\"\n",
    "client = delta_sharing.SharingClient(config)\n",
    "client.list_all_tables()"
   ]
  },
  {
   "cell_type": "markdown",
   "metadata": {
    "application/vnd.databricks.v1+cell": {
     "cellMetadata": {},
     "inputWidgets": {},
     "nuid": "04d6c843-0398-4933-ad9c-2e806ea5a3ad",
     "showTitle": false,
     "tableResultSettingsMap": {},
     "title": ""
    }
   },
   "source": [
    "### Table 1\n",
    "Energyvalve 3 dataprofile describing the datapoints found in the device data table."
   ]
  },
  {
   "cell_type": "code",
   "execution_count": 3,
   "metadata": {
    "application/vnd.databricks.v1+cell": {
     "cellMetadata": {
      "byteLimit": 2048000,
      "rowLimit": 10000
     },
     "inputWidgets": {},
     "nuid": "ec8533c7-c95d-4d0a-9cd2-7d3995367409",
     "showTitle": false,
     "tableResultSettingsMap": {},
     "title": ""
    },
    "jupyter": {
     "source_hidden": true
    }
   },
   "outputs": [
    {
     "name": "stderr",
     "output_type": "stream",
     "text": [
      "25/03/20 19:24:39 WARN SparkStringUtils: Truncated the string representation of a plan since it was too large. This behavior can be adjusted by setting 'spark.sql.debug.maxToStringFields'.\n",
      "                                                                                \r"
     ]
    },
    {
     "data": {
      "text/html": [
       "<div>\n",
       "<style scoped>\n",
       "    .dataframe tbody tr th:only-of-type {\n",
       "        vertical-align: middle;\n",
       "    }\n",
       "\n",
       "    .dataframe tbody tr th {\n",
       "        vertical-align: top;\n",
       "    }\n",
       "\n",
       "    .dataframe thead th {\n",
       "        text-align: right;\n",
       "    }\n",
       "</style>\n",
       "<table border=\"1\" class=\"dataframe\">\n",
       "  <thead>\n",
       "    <tr style=\"text-align: right;\">\n",
       "      <th></th>\n",
       "      <th>id</th>\n",
       "      <th>access</th>\n",
       "      <th>basetype</th>\n",
       "      <th>description</th>\n",
       "      <th>format</th>\n",
       "      <th>name</th>\n",
       "      <th>privacy</th>\n",
       "      <th>restriction</th>\n",
       "      <th>definedBy</th>\n",
       "      <th>unit</th>\n",
       "    </tr>\n",
       "  </thead>\n",
       "  <tbody>\n",
       "    <tr>\n",
       "      <th>0</th>\n",
       "      <td>evcloud.00009</td>\n",
       "      <td>r</td>\n",
       "      <td>int</td>\n",
       "      <td>Valve Type</td>\n",
       "      <td>application/vnd.belimo.enum;0|1</td>\n",
       "      <td>ValveType</td>\n",
       "      <td>False</td>\n",
       "      <td>uint8</td>\n",
       "      <td>evcloud/1.2</td>\n",
       "      <td>None</td>\n",
       "    </tr>\n",
       "    <tr>\n",
       "      <th>1</th>\n",
       "      <td>evcloud.10</td>\n",
       "      <td>r</td>\n",
       "      <td>int</td>\n",
       "      <td>DN Size of Valve</td>\n",
       "      <td>None</td>\n",
       "      <td>DN_Size</td>\n",
       "      <td>False</td>\n",
       "      <td>int32</td>\n",
       "      <td>evcloud/1.2</td>\n",
       "      <td>None</td>\n",
       "    </tr>\n",
       "    <tr>\n",
       "      <th>2</th>\n",
       "      <td>evcloud.100</td>\n",
       "      <td>r</td>\n",
       "      <td>real</td>\n",
       "      <td>Relative Flow in %</td>\n",
       "      <td>None</td>\n",
       "      <td>RelFlow_Fb_Rel2Vmax</td>\n",
       "      <td>False</td>\n",
       "      <td>[-2147483.648,2147483.647]</td>\n",
       "      <td>evcloud/1.2</td>\n",
       "      <td>percent</td>\n",
       "    </tr>\n",
       "  </tbody>\n",
       "</table>\n",
       "</div>"
      ],
      "text/plain": [
       "              id access basetype         description  \\\n",
       "0  evcloud.00009      r      int          Valve Type   \n",
       "1     evcloud.10      r      int    DN Size of Valve   \n",
       "2    evcloud.100      r     real  Relative Flow in %   \n",
       "\n",
       "                            format                 name  privacy  \\\n",
       "0  application/vnd.belimo.enum;0|1            ValveType    False   \n",
       "1                             None              DN_Size    False   \n",
       "2                             None  RelFlow_Fb_Rel2Vmax    False   \n",
       "\n",
       "                  restriction    definedBy     unit  \n",
       "0                       uint8  evcloud/1.2     None  \n",
       "1                       int32  evcloud/1.2     None  \n",
       "2  [-2147483.648,2147483.647]  evcloud/1.2  percent  "
      ]
     },
     "execution_count": 3,
     "metadata": {},
     "output_type": "execute_result"
    }
   ],
   "source": [
    "df = spark.read.format(\"deltaSharing\").load(\"config.share#start_hack_2025.start_hack_2025.ev3_dataprofile\").limit(3)\n",
    "df.toPandas()"
   ]
  },
  {
   "cell_type": "markdown",
   "metadata": {
    "application/vnd.databricks.v1+cell": {
     "cellMetadata": {},
     "inputWidgets": {},
     "nuid": "b8cf45ee-e8b7-49db-a675-c0236849895b",
     "showTitle": false,
     "tableResultSettingsMap": {},
     "title": ""
    }
   },
   "source": [
    "### Table 2\n",
    "Energyvalve 3 device data. **Big data** list of timeseries samples for devices. Devices are differentiated by the **device_id** column."
   ]
  },
  {
   "cell_type": "code",
   "execution_count": 4,
   "metadata": {
    "application/vnd.databricks.v1+cell": {
     "cellMetadata": {
      "byteLimit": 2048000,
      "rowLimit": 10000
     },
     "inputWidgets": {},
     "nuid": "ff67b5b1-266b-4438-a46f-1773314774cd",
     "showTitle": false,
     "tableResultSettingsMap": {},
     "title": ""
    },
    "jupyter": {
     "source_hidden": true
    }
   },
   "outputs": [
    {
     "name": "stderr",
     "output_type": "stream",
     "text": [
      "25/03/20 19:24:42 WARN SparkSession: Using an existing Spark session; only runtime SQL configurations will take effect.\n",
      "25/03/20 19:24:47 WARN GarbageCollectionMetrics: To enable non-built-in garbage collector(s) List(G1 Concurrent GC), users should configure it(them) to spark.eventLog.gcMetrics.youngGenerationGarbageCollectors or spark.eventLog.gcMetrics.oldGenerationGarbageCollectors\n",
      "                                                                                \r"
     ]
    },
    {
     "name": "stdout",
     "output_type": "stream",
     "text": [
      "JSON file with device data saved successfully!\n"
     ]
    }
   ],
   "source": [
    "from pyspark.sql import SparkSession\n",
    "from pyspark.sql.functions import col, when, collect_list, struct, avg\n",
    "import json\n",
    "\n",
    "# Initialize Spark session\n",
    "spark = SparkSession.builder.appName(\"DeviceDataProcessing\").getOrCreate()\n",
    "\n",
    "# Load dataset\n",
    "df_filtered = spark.read.format(\"deltaSharing\").load(\"config.share#start_hack_2025.start_hack_2025.ev3_device_data\").limit(86018) \n",
    "\n",
    "# Compute efficiency and consumption with error handling\n",
    "df_with_result = df_filtered.select(\n",
    "    col(\"device_id\"),\n",
    "    col(\"AbsPower_Fb_W\"),\n",
    "    col(\"Cooling_E_J\"),\n",
    "    col(\"Heating_E_J\"),\n",
    "    col(\"year_month_day\"),\n",
    "    when(\n",
    "        col(\"AbsPower_Fb_W\") != 0,  # Avoid division by zero\n",
    "        col(\"Cooling_E_J\") / col(\"AbsPower_Fb_W\")\n",
    "    ).otherwise(0).alias(\"cool-coeff\"),\n",
    "    when(\n",
    "        col(\"AbsPower_Fb_W\") != 0,  # Avoid division by zero\n",
    "        col(\"Heating_E_J\") / col(\"AbsPower_Fb_W\")\n",
    "    ).otherwise(0).alias(\"heat-coeff\"),\n",
    "    (((col(\"Heating_E_J\") + col(\"Cooling_E_J\"))/3600000)*0.1308).alias(\"cost_baseline\")\n",
    ")\n",
    "\n",
    "# Collect device_ids\n",
    "device_ids = df_with_result.select(\"device_id\").distinct().rdd.flatMap(lambda x: x).collect()\n",
    "\n",
    "# Prepare a dictionary to hold the final JSON structure\n",
    "final_json = {}\n",
    "\n",
    "# Loop over each device_id to create the corresponding key-value pair\n",
    "for device_id in device_ids:\n",
    "    # Filter data for the current device_id\n",
    "    filtered_df = df_with_result.filter(df_with_result.device_id == device_id)\n",
    "    \n",
    "    # Collect the data for the current device_id as a list of rows (convert to JSON)\n",
    "    records = filtered_df.collect()\n",
    "    device_data = [row.asDict() for row in records]\n",
    "    \n",
    "    # Add the device_id as the key and the records list as the value\n",
    "    final_json[str(device_id)] = device_data\n",
    "\n",
    "# Write the final JSON object to a file in the current working directory\n",
    "with open(\"./device_data.json\", \"w\") as outfile:\n",
    "    json.dump(final_json, outfile, indent=4)\n",
    "\n",
    "print(\"JSON file with device data saved successfully!\")"
   ]
  },
  {
   "cell_type": "markdown",
   "metadata": {},
   "source": [
    "### Plot\n",
    "Heat Exchanger Characteristic"
   ]
  },
  {
   "cell_type": "code",
   "execution_count": 5,
   "metadata": {
    "application/vnd.databricks.v1+cell": {
     "cellMetadata": {
      "byteLimit": 2048000,
      "rowLimit": 10000
     },
     "inputWidgets": {},
     "nuid": "a10e495f-7c0b-4e02-b148-a59d7219cc31",
     "showTitle": false,
     "tableResultSettingsMap": {},
     "title": ""
    },
    "jupyter": {
     "source_hidden": true
    }
   },
   "outputs": [
    {
     "name": "stderr",
     "output_type": "stream",
     "text": [
      "                                                                                \r"
     ]
    },
    {
     "data": {
      "image/png": "[encoded data removed]",
      "text/plain": [
       "<Figure size 640x480 with 1 Axes>"
      ]
     },
     "metadata": {},
     "output_type": "display_data"
    }
   ],
   "source": [
    "from pyspark.sql.functions import col\n",
    "import matplotlib.pyplot as plt\n",
    "\n",
    "device_id = \"1a9da8fa-6fa8-49f3-8aaa-420b34eefe57\"\n",
    "year_month = \"202103\"\n",
    "x = \"AbsFlow_Fb_m3s\"\n",
    "y = \"AbsPower_Fb_W\"\n",
    "df_data = spark.read.format(\"deltaSharing\").load(\"config.share#start_hack_2025.start_hack_2025.ev3_device_data\").filter((col(\"device_id\") == device_id) & (col(\"year_month\") == year_month)).toPandas()\n",
    "year_month = year_month[:4] + '-' + year_month[4:]\n",
    "plt.scatter(df_data[x], df_data[y])\n",
    "plt.xlabel(x)\n",
    "plt.ylabel(y)\n",
    "plt.title(f\"Heat Exchanger Measurments ({year_month}) \\n Device ID: {device_id}\")\n",
    "plt.show()"
   ]
  },
  {
   "cell_type": "markdown",
   "metadata": {
    "application/vnd.databricks.v1+cell": {
     "cellMetadata": {},
     "inputWidgets": {},
     "nuid": "d3e14ff0-96e1-4a81-8695-48b0209be9fc",
     "showTitle": false,
     "tableResultSettingsMap": {},
     "title": ""
    }
   },
   "source": [
    "### Table 3\n",
    "Cloud api logs describing interactions with our cloud."
   ]
  },
  {
   "cell_type": "code",
   "execution_count": 6,
   "metadata": {
    "application/vnd.databricks.v1+cell": {
     "cellMetadata": {
      "byteLimit": 2048000,
      "rowLimit": 10000
     },
     "inputWidgets": {},
     "nuid": "4a3e8aea-23ef-4edf-b9be-435a89d82fba",
     "showTitle": false,
     "tableResultSettingsMap": {},
     "title": ""
    },
    "jupyter": {
     "source_hidden": true
    }
   },
   "outputs": [
    {
     "name": "stderr",
     "output_type": "stream",
     "text": [
      "                                                                                \r"
     ]
    },
    {
     "data": {
      "text/html": [
       "<div>\n",
       "<style scoped>\n",
       "    .dataframe tbody tr th:only-of-type {\n",
       "        vertical-align: middle;\n",
       "    }\n",
       "\n",
       "    .dataframe tbody tr th {\n",
       "        vertical-align: top;\n",
       "    }\n",
       "\n",
       "    .dataframe thead th {\n",
       "        text-align: right;\n",
       "    }\n",
       "</style>\n",
       "<table border=\"1\" class=\"dataframe\">\n",
       "  <thead>\n",
       "    <tr style=\"text-align: right;\">\n",
       "      <th></th>\n",
       "      <th>api</th>\n",
       "      <th>class</th>\n",
       "      <th>cloudEnv</th>\n",
       "      <th>component</th>\n",
       "      <th>correlationId</th>\n",
       "      <th>developmentDevice</th>\n",
       "      <th>durationInMs</th>\n",
       "      <th>host</th>\n",
       "      <th>httpStatus</th>\n",
       "      <th>logEnv</th>\n",
       "      <th>...</th>\n",
       "      <th>principal</th>\n",
       "      <th>requestId</th>\n",
       "      <th>requestURI</th>\n",
       "      <th>requestURL</th>\n",
       "      <th>signature</th>\n",
       "      <th>signatureFull</th>\n",
       "      <th>signatureId</th>\n",
       "      <th>threadName</th>\n",
       "      <th>userAgent</th>\n",
       "      <th>timestamp</th>\n",
       "    </tr>\n",
       "  </thead>\n",
       "  <tbody>\n",
       "    <tr>\n",
       "      <th>0</th>\n",
       "      <td>device</td>\n",
       "      <td>None</td>\n",
       "      <td>production</td>\n",
       "      <td>core-cloud</td>\n",
       "      <td>CCB:9ae22714-7c8c-4490-8f07-d5fd7793b6cf</td>\n",
       "      <td>NaN</td>\n",
       "      <td>119</td>\n",
       "      <td>logsearch-lifeline-agent-stateful-0.logsearch-...</td>\n",
       "      <td>401</td>\n",
       "      <td>production</td>\n",
       "      <td>...</td>\n",
       "      <td>None</td>\n",
       "      <td>a3818cc09b0af2d7c72134ca5fa93eda</td>\n",
       "      <td>/device-api/registration</td>\n",
       "      <td>https://connect.g2bcc.com/device-api/registration</td>\n",
       "      <td>None</td>\n",
       "      <td>None</td>\n",
       "      <td>None</td>\n",
       "      <td>http-nio-8080-exec-29</td>\n",
       "      <td>sharedlogic/3.22.5-0 (bsp 10.8.0-0, model 1.2....</td>\n",
       "      <td>2025-01-16 08:45:23.365</td>\n",
       "    </tr>\n",
       "    <tr>\n",
       "      <th>1</th>\n",
       "      <td>device</td>\n",
       "      <td>DeviceApiV2DeviceController</td>\n",
       "      <td>production</td>\n",
       "      <td>core-cloud</td>\n",
       "      <td>CCB:fc660e65-b629-4ca1-9adc-ac91cd3fb090</td>\n",
       "      <td>NaN</td>\n",
       "      <td>24</td>\n",
       "      <td>logsearch-lifeline-agent-stateful-0.logsearch-...</td>\n",
       "      <td>200</td>\n",
       "      <td>production</td>\n",
       "      <td>...</td>\n",
       "      <td>4d284824-f2dc-4e47-9641-9c4bd115fbab</td>\n",
       "      <td>db0062793fb9ee45787e4588891f15dc</td>\n",
       "      <td>/device-api/v2/devices/8acbcbb2-0649-429b-b09b...</td>\n",
       "      <td>https://connect.g2bcc.com/device-api/v2/device...</td>\n",
       "      <td>DeviceApiV2DeviceController.getTaskList(String...</td>\n",
       "      <td>ch.belimo.cloud.server.deviceapi.v2.DeviceApiV...</td>\n",
       "      <td>111elm3x3ote5</td>\n",
       "      <td>http-nio-8080-exec-93</td>\n",
       "      <td></td>\n",
       "      <td>2025-01-16 08:45:23.450</td>\n",
       "    </tr>\n",
       "    <tr>\n",
       "      <th>2</th>\n",
       "      <td>device</td>\n",
       "      <td>DeviceApiV2DeviceController</td>\n",
       "      <td>production</td>\n",
       "      <td>core-cloud</td>\n",
       "      <td>CCB:6cb197c0-6be1-4e49-82f4-90539ab6ded2</td>\n",
       "      <td>NaN</td>\n",
       "      <td>23</td>\n",
       "      <td>logsearch-lifeline-agent-stateful-0.logsearch-...</td>\n",
       "      <td>200</td>\n",
       "      <td>production</td>\n",
       "      <td>...</td>\n",
       "      <td>d68a34f0-379c-4534-84e9-0278b8539c11</td>\n",
       "      <td>93df335640a41a3e4b1ecc00a4e58304</td>\n",
       "      <td>/device-api/v2/devices/fec4211e-1d9a-41c8-820d...</td>\n",
       "      <td>https://connect.g2bcc.com/device-api/v2/device...</td>\n",
       "      <td>DeviceApiV2DeviceController.getTaskList(String...</td>\n",
       "      <td>ch.belimo.cloud.server.deviceapi.v2.DeviceApiV...</td>\n",
       "      <td>111elm3x3ote5</td>\n",
       "      <td>http-nio-8080-exec-146</td>\n",
       "      <td></td>\n",
       "      <td>2025-01-16 08:45:23.452</td>\n",
       "    </tr>\n",
       "  </tbody>\n",
       "</table>\n",
       "<p>3 rows × 21 columns</p>\n",
       "</div>"
      ],
      "text/plain": [
       "      api                        class    cloudEnv   component  \\\n",
       "0  device                         None  production  core-cloud   \n",
       "1  device  DeviceApiV2DeviceController  production  core-cloud   \n",
       "2  device  DeviceApiV2DeviceController  production  core-cloud   \n",
       "\n",
       "                              correlationId  developmentDevice  durationInMs  \\\n",
       "0  CCB:9ae22714-7c8c-4490-8f07-d5fd7793b6cf                NaN           119   \n",
       "1  CCB:fc660e65-b629-4ca1-9adc-ac91cd3fb090                NaN            24   \n",
       "2  CCB:6cb197c0-6be1-4e49-82f4-90539ab6ded2                NaN            23   \n",
       "\n",
       "                                                host  httpStatus      logEnv  \\\n",
       "0  logsearch-lifeline-agent-stateful-0.logsearch-...         401  production   \n",
       "1  logsearch-lifeline-agent-stateful-0.logsearch-...         200  production   \n",
       "2  logsearch-lifeline-agent-stateful-0.logsearch-...         200  production   \n",
       "\n",
       "   ...                             principal  \\\n",
       "0  ...                                  None   \n",
       "1  ...  4d284824-f2dc-4e47-9641-9c4bd115fbab   \n",
       "2  ...  d68a34f0-379c-4534-84e9-0278b8539c11   \n",
       "\n",
       "                          requestId  \\\n",
       "0  a3818cc09b0af2d7c72134ca5fa93eda   \n",
       "1  db0062793fb9ee45787e4588891f15dc   \n",
       "2  93df335640a41a3e4b1ecc00a4e58304   \n",
       "\n",
       "                                          requestURI  \\\n",
       "0                           /device-api/registration   \n",
       "1  /device-api/v2/devices/8acbcbb2-0649-429b-b09b...   \n",
       "2  /device-api/v2/devices/fec4211e-1d9a-41c8-820d...   \n",
       "\n",
       "                                          requestURL  \\\n",
       "0  https://connect.g2bcc.com/device-api/registration   \n",
       "1  https://connect.g2bcc.com/device-api/v2/device...   \n",
       "2  https://connect.g2bcc.com/device-api/v2/device...   \n",
       "\n",
       "                                           signature  \\\n",
       "0                                               None   \n",
       "1  DeviceApiV2DeviceController.getTaskList(String...   \n",
       "2  DeviceApiV2DeviceController.getTaskList(String...   \n",
       "\n",
       "                                       signatureFull    signatureId  \\\n",
       "0                                               None           None   \n",
       "1  ch.belimo.cloud.server.deviceapi.v2.DeviceApiV...  111elm3x3ote5   \n",
       "2  ch.belimo.cloud.server.deviceapi.v2.DeviceApiV...  111elm3x3ote5   \n",
       "\n",
       "               threadName                                          userAgent  \\\n",
       "0   http-nio-8080-exec-29  sharedlogic/3.22.5-0 (bsp 10.8.0-0, model 1.2....   \n",
       "1   http-nio-8080-exec-93                                                      \n",
       "2  http-nio-8080-exec-146                                                      \n",
       "\n",
       "                timestamp  \n",
       "0 2025-01-16 08:45:23.365  \n",
       "1 2025-01-16 08:45:23.450  \n",
       "2 2025-01-16 08:45:23.452  \n",
       "\n",
       "[3 rows x 21 columns]"
      ]
     },
     "execution_count": 6,
     "metadata": {},
     "output_type": "execute_result"
    }
   ],
   "source": [
    "df = spark.read.format(\"deltaSharing\").load(\"config.share#start_hack_2025.start_hack_2025.cc_api_logs\").limit(3)\n",
    "df.toPandas()"
   ]
  }
 ],
 "metadata": {
  "application/vnd.databricks.v1+notebook": {
   "computePreferences": null,
   "dashboards": [],
   "environmentMetadata": {
    "base_environment": "",
    "client": "1"
   },
   "language": "python",
   "notebookMetadata": {
    "mostRecentlyExecutedCommandWithImplicitDF": {
     "commandId": 898704397433521,
     "dataframes": [
      "_sqldf"
     ]
    },
    "pythonIndentUnit": 4
   },
   "notebookName": "2025-start-hack-belimo-getting-started",
   "widgets": {}
  },
  "kernelspec": {
   "display_name": "Python 3",
   "language": "python",
   "name": "python3"
  },
  "language_info": {
   "codemirror_mode": {
    "name": "ipython",
    "version": 3
   },
   "file_extension": ".py",
   "mimetype": "text/x-python",
   "name": "python",
   "nbconvert_exporter": "python",
   "pygments_lexer": "ipython3",
   "version": "3.9.6"
  }
 },
 "nbformat": 4,
 "nbformat_minor": 4
}
